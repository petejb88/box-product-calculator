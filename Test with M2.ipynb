{
 "cells": [
  {
   "cell_type": "code",
   "execution_count": 1,
   "metadata": {},
   "outputs": [
    {
     "name": "stdout",
     "output_type": "stream",
     "text": [
      "\n",
      "o1 = R\n",
      "\n",
      "o1 : QuotientRing\n"
     ]
    }
   ],
   "source": [
    "R = QQ[x,y]/(x^2-1,y^2-1)"
   ]
  },
  {
   "cell_type": "code",
   "execution_count": 4,
   "metadata": {},
   "outputs": [
    {
     "name": "stdout",
     "output_type": "stream",
     "text": [
      "\n",
      "o4 = QQ[x, y]\n",
      "\n",
      "o4 : PolynomialRing\n"
     ]
    }
   ],
   "source": [
    "ambient R"
   ]
  },
  {
   "cell_type": "code",
   "execution_count": 5,
   "metadata": {},
   "outputs": [
    {
     "name": "stdout",
     "output_type": "stream",
     "text": [
      "\n",
      "             2       2\n",
      "o5 = ideal (x  - 1, y  - 1)\n",
      "\n",
      "o5 : Ideal of QQ[x, y]\n"
     ]
    }
   ],
   "source": [
    "ideal R"
   ]
  },
  {
   "cell_type": "code",
   "execution_count": 6,
   "metadata": {},
   "outputs": [
    {
     "name": "stdout",
     "output_type": "stream",
     "text": [
      "\n",
      "o6 = {x, y}\n",
      "\n",
      "o6 : List\n"
     ]
    }
   ],
   "source": [
    "gens R"
   ]
  },
  {
   "cell_type": "code",
   "execution_count": 7,
   "metadata": {},
   "outputs": [
    {
     "name": "stdout",
     "output_type": "stream",
     "text": [
      "\n",
      "o7 = | x y |\n",
      "\n",
      "             1       2\n",
      "o7 : Matrix R  <--- R\n"
     ]
    }
   ],
   "source": [
    "vars R"
   ]
  },
  {
   "cell_type": "code",
   "execution_count": 8,
   "metadata": {},
   "outputs": [
    {
     "name": "stdout",
     "output_type": "stream",
     "text": [
      "\n",
      "o8 = | x2-1 y2-1 |\n",
      "\n",
      "                      1                2\n",
      "o8 : Matrix (QQ[x, y])  <--- (QQ[x, y])\n"
     ]
    }
   ],
   "source": [
    "gens ideal R"
   ]
  },
  {
   "cell_type": "markdown",
   "metadata": {},
   "source": [
    "We can recover the Q[x,y]-module structure of R as follows: "
   ]
  },
  {
   "cell_type": "code",
   "execution_count": 9,
   "metadata": {},
   "outputs": [
    {
     "name": "stdout",
     "output_type": "stream",
     "text": [
      "\n",
      "o9 = cokernel | x2-1 y2-1 |\n",
      "\n",
      "                                            1\n",
      "o9 : QQ[x, y]-module, quotient of (QQ[x, y])\n"
     ]
    }
   ],
   "source": [
    "M = coker gens ideal R"
   ]
  },
  {
   "cell_type": "code",
   "execution_count": 11,
   "metadata": {},
   "outputs": [
    {
     "name": "stdout",
     "output_type": "stream",
     "text": [
      "\n",
      "                1               2               1\n",
      "o11 = (QQ[x, y])  <-- (QQ[x, y])  <-- (QQ[x, y])  <-- 0\n",
      "                                                       \n",
      "      0               1               2               3\n",
      "\n",
      "o11 : ChainComplex\n"
     ]
    }
   ],
   "source": [
    "FF = res M"
   ]
  },
  {
   "cell_type": "code",
   "execution_count": 12,
   "metadata": {},
   "outputs": [
    {
     "name": "stdout",
     "output_type": "stream",
     "text": [
      "\n",
      "o12 = | x2-1 y2-1 |\n",
      "\n",
      "                       1                2\n",
      "o12 : Matrix (QQ[x, y])  <--- (QQ[x, y])\n"
     ]
    }
   ],
   "source": [
    "FF.dd_1"
   ]
  },
  {
   "cell_type": "code",
   "execution_count": 16,
   "metadata": {},
   "outputs": [
    {
     "name": "stdout",
     "output_type": "stream",
     "text": [
      "\n",
      "o16 = | 1 |\n",
      "\n",
      "                       1                1\n",
      "o16 : Matrix (QQ[x, y])  <--- (QQ[x, y])\n"
     ]
    }
   ],
   "source": [
    "mingens M"
   ]
  },
  {
   "cell_type": "code",
   "execution_count": 19,
   "metadata": {},
   "outputs": [
    {
     "name": "stdout",
     "output_type": "stream",
     "text": [
      "\n",
      "o19 = | x2-1 y2-1 |\n",
      "\n",
      "                       1                2\n",
      "o19 : Matrix (QQ[x, y])  <--- (QQ[x, y])\n"
     ]
    }
   ],
   "source": [
    "relations M"
   ]
  },
  {
   "cell_type": "code",
   "execution_count": 22,
   "metadata": {},
   "outputs": [
    {
     "name": "stdout",
     "output_type": "stream",
     "text": [
      "\n",
      "o22 = map(R,QQ,{})\n",
      "\n",
      "o22 : RingMap R <--- QQ\n"
     ]
    }
   ],
   "source": [
    "f = map(R,QQ)"
   ]
  },
  {
   "cell_type": "code",
   "execution_count": 24,
   "metadata": {},
   "outputs": [
    {
     "name": "stdout",
     "output_type": "stream",
     "text": [
      "stdio:69:5:(3): error: not implemented yet for inhomogeneous modules or maps\n"
     ]
    }
   ],
   "source": [
    "N = pushForward(f,R^1)"
   ]
  },
  {
   "cell_type": "code",
   "execution_count": 25,
   "metadata": {},
   "outputs": [
    {
     "name": "stdout",
     "output_type": "stream",
     "text": [
      "\n",
      "o25 = | 1 x xy y |\n",
      "\n",
      "              1       4\n",
      "o25 : Matrix R  <--- R\n"
     ]
    }
   ],
   "source": [
    "basis R"
   ]
  },
  {
   "cell_type": "markdown",
   "metadata": {},
   "source": [
    "Hopefull basis R is a minimal generating set of R as a Q-vector space. This at least gives the number of generators, if not any torsion."
   ]
  },
  {
   "cell_type": "markdown",
   "metadata": {},
   "source": [
    "# Next Example\n",
    "We consider a more complex example"
   ]
  },
  {
   "cell_type": "code",
   "execution_count": 100,
   "metadata": {},
   "outputs": [
    {
     "name": "stdout",
     "output_type": "stream",
     "text": [
      "\n",
      "o100 = S\n",
      "\n",
      "o100 : QuotientRing\n"
     ]
    }
   ],
   "source": [
    "S = ZZ[a]/(a^3-1) ** ZZ[b]/(b^3-1)"
   ]
  },
  {
   "cell_type": "code",
   "execution_count": 101,
   "metadata": {},
   "outputs": [
    {
     "name": "stdout",
     "output_type": "stream",
     "text": [
      "\n",
      "               2        2         2     2                     2      2        \n",
      "o101 = ideal (a  + a - b  - b, - a b + a  - a*b + a - b + 1, a  - a*b  - a*b +\n",
      "       -------------------------------------------------------------------------\n",
      "             2 2    2      2        2         2 2    2\n",
      "       1, - a b  + a  - a*b  + a - b  + 1, - a b  - a b + a + 1)\n",
      "\n",
      "o101 : Ideal of S\n"
     ]
    }
   ],
   "source": [
    "J = ideal(\n",
    "    (1+a+a^2) - (1+b+b^2),\n",
    "    (1+a+a^2) - (b+a*b+a^2*b), \n",
    "    (1+a+a^2) - (a+a*b+a*b^2), \n",
    "    (1+a+a^2) - (b^2+a*b^2+a^2*b^2),\n",
    "    (1+a+a^2) - (a^2+a^2*b+a^2*b^2)\n",
    "    )"
   ]
  },
  {
   "cell_type": "code",
   "execution_count": 102,
   "metadata": {},
   "outputs": [
    {
     "name": "stdout",
     "output_type": "stream",
     "text": [
      "\n",
      "o102 = Q\n",
      "\n",
      "o102 : QuotientRing\n"
     ]
    }
   ],
   "source": [
    "Q = S/J"
   ]
  },
  {
   "cell_type": "code",
   "execution_count": 103,
   "metadata": {},
   "outputs": [
    {
     "name": "stdout",
     "output_type": "stream",
     "text": [
      "\n",
      "o103 = | 1 a ab b b2 |\n",
      "\n",
      "               1       5\n",
      "o103 : Matrix Q  <--- Q\n"
     ]
    }
   ],
   "source": [
    "basis Q"
   ]
  },
  {
   "cell_type": "code",
   "execution_count": 104,
   "metadata": {},
   "outputs": [
    {
     "name": "stdout",
     "output_type": "stream",
     "text": [
      "\n",
      "o104 = (Q', map(Q',Q,{a, b}))\n",
      "\n",
      "o104 : Sequence\n"
     ]
    }
   ],
   "source": [
    "(Q', mapQ') = flattenRing Q"
   ]
  },
  {
   "cell_type": "code",
   "execution_count": 106,
   "metadata": {},
   "outputs": [
    {
     "name": "stdout",
     "output_type": "stream",
     "text": [
      "\n",
      "o106 = T\n",
      "\n",
      "o106 : PolynomialRing\n"
     ]
    }
   ],
   "source": [
    "T = ambient Q'"
   ]
  },
  {
   "cell_type": "code",
   "execution_count": 107,
   "metadata": {},
   "outputs": [
    {
     "name": "stdout",
     "output_type": "stream",
     "text": [
      "\n",
      "                                                                            T\n",
      "o107 = -------------------------------------------------------------------------------------------------------------------------------------------\n",
      "         2        2         2     2                     2      2               2 2    2      2        2         2 2    2            3       3\n",
      "       (a  + a - b  - b, - a b + a  - a*b + a - b + 1, a  - a*b  - a*b + 1, - a b  + a  - a*b  + a - b  + 1, - a b  - a b + a + 1, a  - 1, b  - 1)\n"
     ]
    }
   ],
   "source": [
    "describe Q'"
   ]
  },
  {
   "cell_type": "markdown",
   "metadata": {},
   "source": [
    "## Multiplicative structure\n",
    "We now move to see if we can simplify our presentation of the ideal of Q'."
   ]
  },
  {
   "cell_type": "markdown",
   "metadata": {},
   "source": [
    "First, does M2.prune simplify? No:"
   ]
  },
  {
   "cell_type": "code",
   "execution_count": 108,
   "metadata": {},
   "outputs": [
    {
     "name": "stdout",
     "output_type": "stream",
     "text": [
      "\n",
      "                                                                         ZZ[a, b]\n",
      "o108 = -------------------------------------------------------------------------------------------------------------------------------------------\n",
      "         2        2         2     2                     2      2               2 2    2      2        2         2 2    2            3       3\n",
      "       (a  + a - b  - b, - a b + a  - a*b + a - b + 1, a  - a*b  - a*b + 1, - a b  + a  - a*b  + a - b  + 1, - a b  - a b + a + 1, a  - 1, b  - 1)\n",
      "\n",
      "o108 : QuotientRing\n"
     ]
    }
   ],
   "source": [
    "prune Q'"
   ]
  },
  {
   "cell_type": "markdown",
   "metadata": {},
   "source": [
    "Instead, we find a minimal generating set for the ideal."
   ]
  },
  {
   "cell_type": "code",
   "execution_count": 110,
   "metadata": {},
   "outputs": [
    {
     "name": "stdout",
     "output_type": "stream",
     "text": [
      "\n",
      "               2        2         2     2                     2      2        \n",
      "o110 = ideal (a  + a - b  - b, - a b + a  - a*b + a - b + 1, a  - a*b  - a*b +\n",
      "       -------------------------------------------------------------------------\n",
      "             2 2    2      2        2         2 2    2            3       3\n",
      "       1, - a b  + a  - a*b  + a - b  + 1, - a b  - a b + a + 1, a  - 1, b  - 1)\n",
      "\n",
      "o110 : Ideal of T\n"
     ]
    }
   ],
   "source": [
    "IQ' = ideal Q'"
   ]
  },
  {
   "cell_type": "code",
   "execution_count": 111,
   "metadata": {},
   "outputs": [
    {
     "name": "stdout",
     "output_type": "stream",
     "text": [
      "\n",
      "o111 = | a2+a-b2-b -a2b+a2-ab+a-b+1 a2-ab2-ab+1 -a2b2+a2-ab2+a-b2+1\n",
      "       -------------------------------------------------------------------------\n",
      "       -a2b2-a2b+a+1 a3-1 b3-1 |\n",
      "\n",
      "               1       7\n",
      "o111 : Matrix T  <--- T\n"
     ]
    }
   ],
   "source": [
    "gens IQ'"
   ]
  },
  {
   "cell_type": "code",
   "execution_count": 112,
   "metadata": {},
   "outputs": [
    {
     "name": "stdout",
     "output_type": "stream",
     "text": [
      "\n",
      "o112 = | b3-1 ab2+ab+a-b2-b-1 a2+a-b2-b |\n",
      "\n",
      "               1       3\n",
      "o112 : Matrix T  <--- T\n"
     ]
    }
   ],
   "source": [
    "mingens IQ'"
   ]
  },
  {
   "cell_type": "code",
   "execution_count": 116,
   "metadata": {},
   "outputs": [
    {
     "name": "stdout",
     "output_type": "stream",
     "text": [
      "\n",
      "               3         2              2           2        2\n",
      "o116 = ideal (b  - 1, a*b  + a*b + a - b  - b - 1, a  + a - b  - b)\n",
      "\n",
      "o116 : Ideal of T\n"
     ]
    }
   ],
   "source": [
    "JQ' = ideal mingens IQ'"
   ]
  },
  {
   "cell_type": "code",
   "execution_count": 117,
   "metadata": {},
   "outputs": [
    {
     "name": "stdout",
     "output_type": "stream",
     "text": [
      "\n",
      "o117 = true\n"
     ]
    }
   ],
   "source": [
    "IQ' == JQ'"
   ]
  },
  {
   "cell_type": "code",
   "execution_count": 118,
   "metadata": {},
   "outputs": [
    {
     "name": "stdout",
     "output_type": "stream",
     "text": [
      "\n",
      "o118 = Q''\n",
      "\n",
      "o118 : QuotientRing\n"
     ]
    }
   ],
   "source": [
    "Q'' = T / JQ'"
   ]
  },
  {
   "cell_type": "code",
   "execution_count": 123,
   "metadata": {},
   "outputs": [
    {
     "name": "stdout",
     "output_type": "stream",
     "text": [
      "\n",
      "                                  T\n",
      "o123 = ------------------------------------------------------\n",
      "         3         2              2           2        2\n",
      "       (b  - 1, a*b  + a*b + a - b  - b - 1, a  + a - b  - b)\n"
     ]
    }
   ],
   "source": [
    "describe Q''"
   ]
  },
  {
   "cell_type": "markdown",
   "metadata": {},
   "source": [
    "Now that we have a minimal set of generators, we can recover the relations between them using a minimal resolution of Q'' as a module over T = Z[a,b]"
   ]
  },
  {
   "cell_type": "code",
   "execution_count": 129,
   "metadata": {},
   "outputs": [
    {
     "name": "stdout",
     "output_type": "stream",
     "text": [
      "\n",
      "o129 = cokernel | b3-1 ab2+ab+a-b2-b-1 a2+a-b2-b |\n",
      "\n",
      "                              1\n",
      "o129 : T-module, quotient of T\n"
     ]
    }
   ],
   "source": [
    "M = coker gens ideal Q''"
   ]
  },
  {
   "cell_type": "code",
   "execution_count": 130,
   "metadata": {},
   "outputs": [
    {
     "name": "stdout",
     "output_type": "stream",
     "text": [
      "\n",
      "        1      3      3      1\n",
      "o130 = T  <-- T  <-- T  <-- T  <-- 0\n",
      "                                    \n",
      "       0      1      2      3      4\n",
      "\n",
      "o130 : ChainComplex\n"
     ]
    }
   ],
   "source": [
    "FF'' = res M"
   ]
  },
  {
   "cell_type": "code",
   "execution_count": 131,
   "metadata": {},
   "outputs": [
    {
     "name": "stdout",
     "output_type": "stream",
     "text": [
      "\n",
      "            1                                          3\n",
      "o131 = 0 : T  <-------------------------------------- T  : 1\n",
      "                 | b3-1 ab2+ab+a-b2-b-1 a2+a-b2-b |\n",
      "\n",
      "            3                                         3\n",
      "       1 : T  <------------------------------------- T  : 2\n",
      "                 {0, 3} | -a+1 -b-2    a2+a-b2-b |\n",
      "                 {1, 2} | b-1  a+2     0         |\n",
      "                 {2, 2} | 0    -b2-b-1 -b3+1     |\n",
      "\n",
      "            3                       1\n",
      "       2 : T  <------------------- T  : 3\n",
      "                 {1, 3} | a+2  |\n",
      "                 {2, 4} | -b+1 |\n",
      "                 {2, 5} | 1    |\n",
      "\n",
      "            1\n",
      "       3 : T  <----- 0 : 4\n",
      "                 0\n",
      "\n",
      "o131 : ChainComplexMap\n"
     ]
    }
   ],
   "source": [
    "FF''.dd"
   ]
  },
  {
   "cell_type": "markdown",
   "metadata": {},
   "source": [
    "## Additive structure\n",
    "What can we learn about Q'' as a module over Q?"
   ]
  },
  {
   "cell_type": "code",
   "execution_count": 138,
   "metadata": {},
   "outputs": [
    {
     "name": "stdout",
     "output_type": "stream",
     "text": [
      "\n",
      "o138 = | 1 a ab b b2 |\n",
      "\n",
      "                 1         5\n",
      "o138 : Matrix Q''  <--- Q''\n"
     ]
    }
   ],
   "source": [
    "basis Q''"
   ]
  },
  {
   "cell_type": "markdown",
   "metadata": {},
   "source": [
    "The belief is that this is giving a minimal generating set for Q'' over Z."
   ]
  },
  {
   "cell_type": "markdown",
   "metadata": {},
   "source": [
    "Is there any torsion? We tensor with Q, and no relations or basis elements disappear, indicating no."
   ]
  },
  {
   "cell_type": "code",
   "execution_count": 141,
   "metadata": {},
   "outputs": [
    {
     "name": "stdout",
     "output_type": "stream",
     "text": [
      "\n",
      "o141 = Q'''\n",
      "\n",
      "o141 : QuotientRing\n"
     ]
    }
   ],
   "source": [
    "Q''' = QQ ** Q''"
   ]
  },
  {
   "cell_type": "code",
   "execution_count": 142,
   "metadata": {},
   "outputs": [
    {
     "name": "stdout",
     "output_type": "stream",
     "text": [
      "\n",
      "                              QQ[a, b]\n",
      "o142 = ------------------------------------------------------\n",
      "         3         2              2           2        2\n",
      "       (b  - 1, a*b  + a*b + a - b  - b - 1, a  + a - b  - b)\n",
      "\n",
      "o142 : QuotientRing\n"
     ]
    }
   ],
   "source": [
    "prune Q'''"
   ]
  },
  {
   "cell_type": "code",
   "execution_count": 143,
   "metadata": {},
   "outputs": [
    {
     "name": "stdout",
     "output_type": "stream",
     "text": [
      "\n",
      "o143 = | 1 a ab b b2 |\n",
      "\n",
      "                  1          5\n",
      "o143 : Matrix Q'''  <--- Q'''\n"
     ]
    }
   ],
   "source": [
    "basis Q'''"
   ]
  },
  {
   "cell_type": "markdown",
   "metadata": {},
   "source": [
    "### Example with torsion:"
   ]
  },
  {
   "cell_type": "markdown",
   "metadata": {},
   "source": [
    "There are two ways basis can fail:\n",
    "- there are infinitely-many generators with a zero-divisor, as in the first case\n",
    "- there are infinitely-many generators with no zero-divisor, as in the second case\n",
    "But "
   ]
  },
  {
   "cell_type": "code",
   "execution_count": 253,
   "metadata": {},
   "outputs": [
    {
     "name": "stdout",
     "output_type": "stream",
     "text": [
      "\n",
      "o253 = Z'\n",
      "\n",
      "o253 : QuotientRing\n"
     ]
    }
   ],
   "source": [
    "Z' = ZZ[s6,t6]/(2*s6, t6^2 - 2)"
   ]
  },
  {
   "cell_type": "code",
   "execution_count": 254,
   "metadata": {},
   "outputs": [
    {
     "name": "stdout",
     "output_type": "stream",
     "text": [
      "\n",
      "o254 = | 2s6 t6^2-2 |\n",
      "\n",
      "                          1                  2\n",
      "o254 : Matrix (ZZ[s6, t6])  <--- (ZZ[s6, t6])\n"
     ]
    }
   ],
   "source": [
    "mingens ideal Z'"
   ]
  },
  {
   "cell_type": "code",
   "execution_count": 255,
   "metadata": {},
   "outputs": [
    {
     "name": "stdout",
     "output_type": "stream",
     "text": [
      "/usr/share/Macaulay2/Core/expressions.m2:629:47:(1):[11]: error: module given is not finite over the base\n",
      "/usr/share/Macaulay2/Core/modules2.m2:762:11:(1):[9]: --back trace--\n",
      "/usr/share/Macaulay2/Core/methods.m2:119:80:(1):[8]: --back trace--\n",
      "/usr/share/Macaulay2/Core/option.m2:15:8:(1):[7]: --back trace--\n",
      "/usr/share/Macaulay2/Core/modules2.m2:814:32:(1):[6]: --back trace--\n",
      "/usr/share/Macaulay2/Core/methods.m2:119:80:(1):[5]: --back trace--\n",
      "/usr/share/Macaulay2/Core/option.m2:15:8:(1):[4]: --back trace--\n",
      "/usr/share/Macaulay2/Core/modules2.m2:815:28:(1):[3]: --back trace--\n",
      "/usr/share/Macaulay2/Core/methods.m2:119:80:(1):[2]: --back trace--\n"
     ]
    }
   ],
   "source": [
    "basis Z'"
   ]
  },
  {
   "cell_type": "code",
   "execution_count": 256,
   "metadata": {},
   "outputs": [
    {
     "name": "stdout",
     "output_type": "stream",
     "text": [
      "\n",
      "o256 = Y'\n",
      "\n",
      "o256 : QuotientRing\n"
     ]
    }
   ],
   "source": [
    "Y' = ZZ[s7,t7]/(2*s7-1, t7^2-2)"
   ]
  },
  {
   "cell_type": "code",
   "execution_count": 257,
   "metadata": {},
   "outputs": [
    {
     "name": "stdout",
     "output_type": "stream",
     "text": [
      "\n",
      "o257 = | 2s7-1 t7^2-2 |\n",
      "\n",
      "                          1                  2\n",
      "o257 : Matrix (ZZ[s7, t7])  <--- (ZZ[s7, t7])\n"
     ]
    }
   ],
   "source": [
    "mingens ideal Y'"
   ]
  },
  {
   "cell_type": "code",
   "execution_count": 258,
   "metadata": {},
   "outputs": [
    {
     "name": "stdout",
     "output_type": "stream",
     "text": [
      "/usr/share/Macaulay2/Core/expressions.m2:629:47:(1):[11]: error: module given is not finite over the base\n",
      "/usr/share/Macaulay2/Core/modules2.m2:762:11:(1):[9]: --back trace--\n",
      "/usr/share/Macaulay2/Core/methods.m2:119:80:(1):[8]: --back trace--\n",
      "/usr/share/Macaulay2/Core/option.m2:15:8:(1):[7]: --back trace--\n",
      "/usr/share/Macaulay2/Core/modules2.m2:814:32:(1):[6]: --back trace--\n",
      "/usr/share/Macaulay2/Core/methods.m2:119:80:(1):[5]: --back trace--\n",
      "/usr/share/Macaulay2/Core/option.m2:15:8:(1):[4]: --back trace--\n",
      "/usr/share/Macaulay2/Core/modules2.m2:815:28:(1):[3]: --back trace--\n",
      "/usr/share/Macaulay2/Core/methods.m2:119:80:(1):[2]: --back trace--\n"
     ]
    }
   ],
   "source": [
    "basis Y'"
   ]
  },
  {
   "cell_type": "markdown",
   "metadata": {},
   "source": [
    "We tensor with Q to get rid of torsion."
   ]
  },
  {
   "cell_type": "code",
   "execution_count": 268,
   "metadata": {},
   "outputs": [],
   "source": [
    "Z'' = Z' ** QQ\n",
    "Y'' = Y' ** QQ;"
   ]
  },
  {
   "cell_type": "code",
   "execution_count": 274,
   "metadata": {},
   "outputs": [],
   "source": [
    "Z''' = prune Z''\n",
    "Y''' = prune Y'';"
   ]
  },
  {
   "cell_type": "code",
   "execution_count": 275,
   "metadata": {},
   "outputs": [
    {
     "name": "stdout",
     "output_type": "stream",
     "text": [
      "\n",
      "o275 = | 1 t6 |\n",
      "\n",
      "                  1          2\n",
      "o275 : Matrix Z'''  <--- Z'''\n"
     ]
    }
   ],
   "source": [
    "basis Z'''"
   ]
  },
  {
   "cell_type": "code",
   "execution_count": 276,
   "metadata": {},
   "outputs": [
    {
     "name": "stdout",
     "output_type": "stream",
     "text": [
      "\n",
      "        QQ[t6]\n",
      "o276 = -------\n",
      "         2\n",
      "       t6  - 2\n"
     ]
    }
   ],
   "source": [
    "describe Z'''"
   ]
  },
  {
   "cell_type": "markdown",
   "metadata": {},
   "source": [
    "We can conclude that t6 is not torsion but s2 is (as expected)"
   ]
  },
  {
   "cell_type": "code",
   "execution_count": 277,
   "metadata": {},
   "outputs": [
    {
     "name": "stdout",
     "output_type": "stream",
     "text": [
      "\n",
      "o277 = | 1 t7 |\n",
      "\n",
      "                  1          2\n",
      "o277 : Matrix Y'''  <--- Y'''\n"
     ]
    }
   ],
   "source": [
    "basis Y'''"
   ]
  },
  {
   "cell_type": "code",
   "execution_count": 278,
   "metadata": {},
   "outputs": [
    {
     "name": "stdout",
     "output_type": "stream",
     "text": [
      "\n",
      "        QQ[t7]\n",
      "o278 = -------\n",
      "         2\n",
      "       t7  - 2\n"
     ]
    }
   ],
   "source": [
    "describe Y'''"
   ]
  },
  {
   "cell_type": "markdown",
   "metadata": {},
   "source": [
    "We note that the rationalization of these two rings is the same."
   ]
  },
  {
   "cell_type": "markdown",
   "metadata": {},
   "source": [
    "## Difficulty\n",
    "One difficulty here is that M2 cannot do direct sum of rings, so it is hard to see, say,\n",
    "Z/2[x] \\oplus Z/3[y], having separate torsion.\n",
    "Finite torsion just looks like Z/n:"
   ]
  },
  {
   "cell_type": "code",
   "execution_count": 279,
   "metadata": {},
   "outputs": [
    {
     "name": "stdout",
     "output_type": "stream",
     "text": [
      "\n",
      "o279 = X'\n",
      "\n",
      "o279 : QuotientRing\n"
     ]
    }
   ],
   "source": [
    "X' = ZZ[s8]/(3*s8, s8^2)"
   ]
  },
  {
   "cell_type": "code",
   "execution_count": 280,
   "metadata": {},
   "outputs": [
    {
     "name": "stdout",
     "output_type": "stream",
     "text": [
      "\n",
      "o280 = | 1 s8 |\n",
      "\n",
      "                1        2\n",
      "o280 : Matrix X'  <--- X'\n"
     ]
    }
   ],
   "source": [
    "basis X'"
   ]
  },
  {
   "cell_type": "code",
   "execution_count": 284,
   "metadata": {},
   "outputs": [
    {
     "name": "stdout",
     "output_type": "stream",
     "text": [
      "\n",
      "o284 = X''\n",
      "\n",
      "o284 : QuotientRing\n"
     ]
    }
   ],
   "source": [
    "X'' = QQ ** X'"
   ]
  },
  {
   "cell_type": "code",
   "execution_count": 286,
   "metadata": {},
   "outputs": [
    {
     "name": "stdout",
     "output_type": "stream",
     "text": [
      "\n",
      "o286 = QQ[]\n",
      "\n",
      "o286 : PolynomialRing\n"
     ]
    }
   ],
   "source": [
    "prune X''"
   ]
  }
 ],
 "metadata": {
  "kernelspec": {
   "display_name": "M2",
   "language": "text/x-macaulay2",
   "name": "m2"
  },
  "language_info": {
   "codemirror_mode": "macaulay2",
   "file_extension": ".m2",
   "mimetype": "text/x-macaulay2",
   "name": "Macaulay2"
  }
 },
 "nbformat": 4,
 "nbformat_minor": 4
}
