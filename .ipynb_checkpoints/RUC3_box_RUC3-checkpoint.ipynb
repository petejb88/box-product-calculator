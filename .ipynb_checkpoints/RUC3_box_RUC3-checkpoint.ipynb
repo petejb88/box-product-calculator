{
 "cells": [
  {
   "cell_type": "markdown",
   "metadata": {},
   "source": [
    "# Computing a box product: $RU_{C_3} \\ \\square \\ RU_{C_3}$\n",
    "In this notebook, we compute the top level of the box product of $RU_{C_3}$ and $RU_{C_3}$. "
   ]
  },
  {
   "cell_type": "code",
   "execution_count": 4,
   "metadata": {},
   "outputs": [
    {
     "name": "stdout",
     "output_type": "stream",
     "text": [
      "\n"
     ]
    }
   ],
   "source": [
    "S = ZZ[x]/(x^3-1); \n",
    "R = ZZ[y]/(y^3 - 1);"
   ]
  },
  {
   "cell_type": "code",
   "execution_count": 5,
   "metadata": {},
   "outputs": [
    {
     "name": "stdout",
     "output_type": "stream",
     "text": [
      "\n",
      "o5 = | 1 y y2 |\n",
      "\n",
      "             1       3\n",
      "o5 : Matrix R  <--- R\n"
     ]
    }
   ],
   "source": [
    "basis R"
   ]
  },
  {
   "cell_type": "markdown",
   "metadata": {},
   "source": [
    "Here, $x$ and $y$ are multiplication by a 3rd root of unit, rotating the complex plane by $2\\pi/3$."
   ]
  },
  {
   "cell_type": "markdown",
   "metadata": {},
   "source": [
    "We will need to cheat somewhat in this computation, as M2 cannot do direct sums.\n",
    "However, we are lucky in this case, as the base ring is $\\mathbb Z$ in both cases."
   ]
  },
  {
   "cell_type": "markdown",
   "metadata": {},
   "source": [
    "First, we take the tensor product of the two rings (and secretly have an additional $\\mathbb Z$ term)"
   ]
  },
  {
   "cell_type": "code",
   "execution_count": 6,
   "metadata": {},
   "outputs": [
    {
     "name": "stdout",
     "output_type": "stream",
     "text": [
      "\n",
      "o6 = M\n",
      "\n",
      "o6 : QuotientRing\n"
     ]
    }
   ],
   "source": [
    "M = S ** R "
   ]
  },
  {
   "cell_type": "markdown",
   "metadata": {},
   "source": [
    "We must ensure that this diagram still satisfies Frobenius reciprosity (this in turn is sufficient to satisfy push-pull).\n",
    "The generators of this ideal are elements of the form:\n",
    "- $a \\otimes tr(r') - res(a) \\otimes r'$\n",
    "- $tr(a') \\otimes r - a' \\otimes res(r)$\n",
    "where the second terms are in the hidden $\\mathbb Z$"
   ]
  },
  {
   "cell_type": "markdown",
   "metadata": {},
   "source": [
    "In this case, $res(x) = res(y) = 1$, $tr(1_s') = 1+x+x^2$, $tr(1_r') = 1+y+y^2$.\n",
    "Thus the relations are:\n",
    "- $1 \\otimes (1+y+y^2) - 1$\n",
    "- $x \\otimes (1+y+y^2) - 1$\n",
    "- $x^2 \\otimes (1+y+y^2) - 1$\n",
    "- $(1+x+x^2) \\otimes 1 - 1$\n",
    "- $(1+x+x^2) \\otimes y - 1$\n",
    "- $(1+x+x^2) \\otimes y^2 - 1$"
   ]
  },
  {
   "cell_type": "code",
   "execution_count": 12,
   "metadata": {},
   "outputs": [
    {
     "name": "stdout",
     "output_type": "stream",
     "text": [
      "\n",
      "                  2              2             2 2    2     2    2             2\n",
      "o12 = ideal (- x*y  - x*y - x + y  + y + 1, - x y  - x y - x  + y  + y + 1, - x \n",
      "      --------------------------------------------------------------------------\n",
      "             2         2           2         2 2      2\n",
      "      - x + y  + y, - x y - x*y + y  + 1, - x y  - x*y  + y + 1)\n",
      "\n",
      "o12 : Ideal of M\n"
     ]
    }
   ],
   "source": [
    "I = ideal(\n",
    "    (1+y+y^2) - (x+x*y+x*y^2),\n",
    "    (1+y+y^2) - (x^2+x^2*y+x^2*y^2),\n",
    "    (1+y+y^2) - (1+x+x^2),\n",
    "    (1+y+y^2) - (y+x*y+x^2*y),\n",
    "    (1+y+y^2) - (y^2+x*y^2+x^2*y^2)\n",
    ")"
   ]
  },
  {
   "cell_type": "code",
   "execution_count": 14,
   "metadata": {},
   "outputs": [
    {
     "name": "stdout",
     "output_type": "stream",
     "text": [
      "\n",
      "\n",
      "                                                                     M\n",
      "o14 = -------------------------------------------------------------------------------------------------------------------------------\n",
      "            2              2             2 2    2     2    2             2        2         2           2         2 2      2\n",
      "      (- x*y  - x*y - x + y  + y + 1, - x y  - x y - x  + y  + y + 1, - x  - x + y  + y, - x y - x*y + y  + 1, - x y  - x*y  + y + 1)\n"
     ]
    }
   ],
   "source": [
    "N = M / I;\n",
    "describe N"
   ]
  },
  {
   "cell_type": "code",
   "execution_count": 16,
   "metadata": {},
   "outputs": [
    {
     "name": "stdout",
     "output_type": "stream",
     "text": [
      "\n",
      "\n",
      "                                                                          ZZ[x, y]\n",
      "o16 = -----------------------------------------------------------------------------------------------------------------------------------------------\n",
      "        3       3           2              2             2 2    2     2    2             2        2         2           2         2 2      2\n",
      "      (x  - 1, y  - 1, - x*y  - x*y - x + y  + y + 1, - x y  - x y - x  + y  + y + 1, - x  - x + y  + y, - x y - x*y + y  + 1, - x y  - x*y  + y + 1)\n"
     ]
    }
   ],
   "source": [
    "N' = prune N;\n",
    "describe N'"
   ]
  },
  {
   "cell_type": "markdown",
   "metadata": {},
   "source": [
    "Let's simplify this ideal, if possible."
   ]
  },
  {
   "cell_type": "code",
   "execution_count": 17,
   "metadata": {},
   "outputs": [
    {
     "name": "stdout",
     "output_type": "stream",
     "text": [
      "\n",
      "o17 = | y3-1 xy2+xy+x-y2-y-1 x2+x-y2-y |\n",
      "\n",
      "                       1                3\n",
      "o17 : Matrix (ZZ[x, y])  <--- (ZZ[x, y])\n"
     ]
    }
   ],
   "source": [
    "f = mingens ideal N'"
   ]
  },
  {
   "cell_type": "code",
   "execution_count": 27,
   "metadata": {},
   "outputs": [
    {
     "name": "stdout",
     "output_type": "stream",
     "text": [
      "\n",
      "              3         2              2           2        2\n",
      "o27 = ideal (y  - 1, x*y  + x*y + x - y  - y - 1, x  + x - y  - y)\n",
      "\n",
      "o27 : Ideal of ZZ[x, y]\n"
     ]
    }
   ],
   "source": [
    "K = ideal f"
   ]
  },
  {
   "cell_type": "code",
   "execution_count": 29,
   "metadata": {},
   "outputs": [
    {
     "name": "stdout",
     "output_type": "stream",
     "text": [
      "\n",
      "\n",
      "                             ZZ[x, y]\n",
      "o29 = ------------------------------------------------------\n",
      "        3         2              2           2        2\n",
      "      (y  - 1, x*y  + x*y + x - y  - y - 1, x  + x - y  - y)\n"
     ]
    }
   ],
   "source": [
    "B = ring K / K;\n",
    "describe B"
   ]
  },
  {
   "cell_type": "markdown",
   "metadata": {},
   "source": [
    "So the ideal is generated by 3 elements."
   ]
  },
  {
   "cell_type": "markdown",
   "metadata": {},
   "source": [
    "Additively:"
   ]
  },
  {
   "cell_type": "code",
   "execution_count": 30,
   "metadata": {},
   "outputs": [
    {
     "name": "stdout",
     "output_type": "stream",
     "text": [
      "\n",
      "o30 = | 1 x xy y y2 |\n",
      "\n",
      "              1       5\n",
      "o30 : Matrix B  <--- B\n"
     ]
    }
   ],
   "source": [
    "basis B"
   ]
  },
  {
   "cell_type": "code",
   "execution_count": 32,
   "metadata": {},
   "outputs": [
    {
     "name": "stdout",
     "output_type": "stream",
     "text": [
      "\n",
      "\n",
      "                             QQ[x, y]\n",
      "o32 = ------------------------------------------------------\n",
      "        3         2              2           2        2\n",
      "      (y  - 1, x*y  + x*y + x - y  - y - 1, x  + x - y  - y)\n"
     ]
    }
   ],
   "source": [
    "B' = QQ ** B;\n",
    "describe prune B'"
   ]
  },
  {
   "cell_type": "markdown",
   "metadata": {},
   "source": [
    "We see the resulting ring is generated by 5 elements over $\\mathbb Z$, with no additive torsion."
   ]
  },
  {
   "cell_type": "code",
   "execution_count": null,
   "metadata": {},
   "outputs": [],
   "source": []
  }
 ],
 "metadata": {
  "kernelspec": {
   "display_name": "M2",
   "language": "text/x-macaulay2",
   "name": "m2"
  },
  "language_info": {
   "codemirror_mode": "macaulay2",
   "file_extension": ".m2",
   "mimetype": "text/x-macaulay2",
   "name": "Macaulay2"
  }
 },
 "nbformat": 4,
 "nbformat_minor": 4
}
