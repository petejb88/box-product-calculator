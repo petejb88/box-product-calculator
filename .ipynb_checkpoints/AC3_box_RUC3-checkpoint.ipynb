{
 "cells": [
  {
   "cell_type": "markdown",
   "metadata": {},
   "source": [
    "# Computing a box product: $A_{C_3} \\ \\square \\ RU_{C_3}$\n",
    "In this notebook, we compute the top level of the box product of $A_{C_3}$ and $RU_{C_3}$. \n",
    "As $A_{C_3}$ is the unit, this should just give back $RU_{C_3}$."
   ]
  },
  {
   "cell_type": "code",
   "execution_count": 1,
   "metadata": {},
   "outputs": [
    {
     "name": "stdout",
     "output_type": "stream",
     "text": [
      "\n",
      "o1 = A\n",
      "\n",
      "o1 : QuotientRing\n"
     ]
    }
   ],
   "source": [
    "A = ZZ[x]/(x^2-3*x)"
   ]
  },
  {
   "cell_type": "code",
   "execution_count": 2,
   "metadata": {},
   "outputs": [
    {
     "name": "stdout",
     "output_type": "stream",
     "text": [
      "\n",
      "o2 = | 1 x |\n",
      "\n",
      "             1       2\n",
      "o2 : Matrix A  <--- A\n"
     ]
    }
   ],
   "source": [
    "basis A"
   ]
  },
  {
   "cell_type": "markdown",
   "metadata": {},
   "source": [
    "Here, x represents the set $C_3/e$, while 1 is the set $C_3/C_3$"
   ]
  },
  {
   "cell_type": "code",
   "execution_count": 3,
   "metadata": {},
   "outputs": [
    {
     "name": "stdout",
     "output_type": "stream",
     "text": [
      "\n",
      "o3 = R\n",
      "\n",
      "o3 : QuotientRing\n"
     ]
    }
   ],
   "source": [
    "R = ZZ[y]/(y^3 - 1)"
   ]
  },
  {
   "cell_type": "code",
   "execution_count": 4,
   "metadata": {},
   "outputs": [
    {
     "name": "stdout",
     "output_type": "stream",
     "text": [
      "\n",
      "o4 = | 1 y y2 |\n",
      "\n",
      "             1       3\n",
      "o4 : Matrix R  <--- R\n"
     ]
    }
   ],
   "source": [
    "basis R"
   ]
  },
  {
   "cell_type": "markdown",
   "metadata": {},
   "source": [
    "Here, $y$ is multiplication by a 3rd root of unit, and rotates the complex plane by $2\\pi/3$."
   ]
  },
  {
   "cell_type": "markdown",
   "metadata": {},
   "source": [
    "We will need to cheat somewhat in this computation, as M2 cannot do direct sums.\n",
    "However, we are lucky in this case, as the base ring is $\\mathbb Z$ in both cases."
   ]
  },
  {
   "cell_type": "markdown",
   "metadata": {},
   "source": [
    "First, we take the tensor product of the two rings (and secretly have an additional $\\mathbb Z$ term)"
   ]
  },
  {
   "cell_type": "code",
   "execution_count": 5,
   "metadata": {},
   "outputs": [
    {
     "name": "stdout",
     "output_type": "stream",
     "text": [
      "\n",
      "o5 = M\n",
      "\n",
      "o5 : QuotientRing\n"
     ]
    }
   ],
   "source": [
    "M = A ** R "
   ]
  },
  {
   "cell_type": "markdown",
   "metadata": {},
   "source": [
    "We must ensure that this diagram still satisfies Frobenius reciprosity (this in turn is sufficient to satisfy push-pull).\n",
    "The generators of this ideal are elements of the form:\n",
    "- $a \\otimes tr(r') - res(a) \\otimes r'$\n",
    "- $tr(a') \\otimes r - a' \\otimes res(r)$\n",
    "where the second terms are in the hidden $\\mathbb Z$"
   ]
  },
  {
   "cell_type": "markdown",
   "metadata": {},
   "source": [
    "In this case, $res(x) = 3$, $res(y) = 1$, $tr(1_a') = x$, $tr(1_r') = 1+y+y^2$.\n",
    "Thus the relations are:\n",
    "- $1 \\otimes (1+y+y^2) - 1$\n",
    "- $x \\otimes (1+y+y^3) - 3$\n",
    "- $(x) \\otimes 1 - 1$\n",
    "- $(x) \\otimes y - 1$\n",
    "- $(x) \\otimes y^2 - 1$"
   ]
  },
  {
   "cell_type": "markdown",
   "metadata": {},
   "source": [
    "When encoding this, we will use the third line to simplify the notation."
   ]
  },
  {
   "cell_type": "code",
   "execution_count": 6,
   "metadata": {},
   "outputs": [
    {
     "name": "stdout",
     "output_type": "stream",
     "text": [
      "\n",
      "                 2                          2         2\n",
      "o6 = ideal (x - y  - y - 1, - x*y + x, - x*y  + x, x*y  + x*y - 2x)\n",
      "\n",
      "o6 : Ideal of M\n"
     ]
    }
   ],
   "source": [
    "I = ideal(\n",
    "(x) - (1+y+y^2),\n",
    "(x) - (x*y),\n",
    "(x) - (x*y^2),\n",
    "(x+x*y+x*y^2) - 3*(x)\n",
    ")"
   ]
  },
  {
   "cell_type": "code",
   "execution_count": 8,
   "metadata": {},
   "outputs": [
    {
     "name": "stdout",
     "output_type": "stream",
     "text": [
      "\n",
      "\n",
      "                                 M\n",
      "o8 = --------------------------------------------------------\n",
      "           2                          2         2\n",
      "     (x - y  - y - 1, - x*y + x, - x*y  + x, x*y  + x*y - 2x)\n"
     ]
    }
   ],
   "source": [
    "N = M / I;\n",
    "describe N"
   ]
  },
  {
   "cell_type": "code",
   "execution_count": 10,
   "metadata": {},
   "outputs": [
    {
     "name": "stdout",
     "output_type": "stream",
     "text": [
      "\n",
      "\n",
      "                                        ZZ[y]\n",
      "o10 = -------------------------------------------------------------------------\n",
      "        4     3           3         3         4    3           4     3\n",
      "      (y  + 2y  - y - 2, y  - 1, - y  + 1, - y  - y  + y + 1, y  + 2y  - y - 2)\n"
     ]
    }
   ],
   "source": [
    "N' = prune N;\n",
    "describe N'"
   ]
  },
  {
   "cell_type": "markdown",
   "metadata": {},
   "source": [
    "We should get a ring isomorphic to $\\mathbb Z[y]/(y^3-1)$"
   ]
  },
  {
   "cell_type": "markdown",
   "metadata": {},
   "source": [
    "Additive basis is the same:"
   ]
  },
  {
   "cell_type": "code",
   "execution_count": 11,
   "metadata": {},
   "outputs": [
    {
     "name": "stdout",
     "output_type": "stream",
     "text": [
      "\n",
      "o11 = | 1 y y2 |\n",
      "\n",
      "               1        3\n",
      "o11 : Matrix N'  <--- N'\n"
     ]
    }
   ],
   "source": [
    "basis N'"
   ]
  },
  {
   "cell_type": "markdown",
   "metadata": {},
   "source": [
    "Let's simplify this ideal."
   ]
  },
  {
   "cell_type": "code",
   "execution_count": 12,
   "metadata": {},
   "outputs": [
    {
     "name": "stdout",
     "output_type": "stream",
     "text": [
      "\n",
      "o12 = | y3-1 |\n",
      "\n",
      "                    1             1\n",
      "o12 : Matrix (ZZ[y])  <--- (ZZ[y])\n"
     ]
    }
   ],
   "source": [
    "f = mingens ideal N'"
   ]
  },
  {
   "cell_type": "code",
   "execution_count": 13,
   "metadata": {},
   "outputs": [
    {
     "name": "stdout",
     "output_type": "stream",
     "text": [
      "\n",
      "             3\n",
      "o13 = ideal(y  - 1)\n",
      "\n",
      "o13 : Ideal of ZZ[y]\n"
     ]
    }
   ],
   "source": [
    "K = ideal(f_(0,0))"
   ]
  },
  {
   "cell_type": "code",
   "execution_count": 15,
   "metadata": {},
   "outputs": [
    {
     "name": "stdout",
     "output_type": "stream",
     "text": [
      "\n",
      "\n",
      "       ZZ[y]\n",
      "o15 = ------\n",
      "       3\n",
      "      y  - 1\n"
     ]
    }
   ],
   "source": [
    "B = ring K / K;\n",
    "describe B"
   ]
  }
 ],
 "metadata": {
  "kernelspec": {
   "display_name": "M2",
   "language": "text/x-macaulay2",
   "name": "m2"
  },
  "language_info": {
   "codemirror_mode": "macaulay2",
   "file_extension": ".m2",
   "mimetype": "text/x-macaulay2",
   "name": "Macaulay2"
  }
 },
 "nbformat": 4,
 "nbformat_minor": 4
}
