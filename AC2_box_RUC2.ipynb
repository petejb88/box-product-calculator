{
 "cells": [
  {
   "cell_type": "markdown",
   "metadata": {},
   "source": [
    "# Computing a box product: $A_{C_2} \\ \\square \\ RU_{C_2}$\n",
    "In this notebook, we compute the top level of the box product of $A_{C_2}$ and $RU_{C_2}$. \n",
    "As these two are isomorphic, and $A_{C_2}$ is the unit, this should just give back the original ring."
   ]
  },
  {
   "cell_type": "code",
   "execution_count": 1,
   "metadata": {},
   "outputs": [
    {
     "name": "stdout",
     "output_type": "stream",
     "text": [
      "\n",
      "o1 = A\n",
      "\n",
      "o1 : QuotientRing\n"
     ]
    }
   ],
   "source": [
    "A = ZZ[x]/(x^2-2*x)"
   ]
  },
  {
   "cell_type": "code",
   "execution_count": 2,
   "metadata": {},
   "outputs": [
    {
     "name": "stdout",
     "output_type": "stream",
     "text": [
      "\n",
      "o2 = | 1 x |\n",
      "\n",
      "             1       2\n",
      "o2 : Matrix A  <--- A\n"
     ]
    }
   ],
   "source": [
    "basis A"
   ]
  },
  {
   "cell_type": "markdown",
   "metadata": {},
   "source": [
    "Here, x represents the set $C_2/e$, while 1 is the set $C_2/C_2$"
   ]
  },
  {
   "cell_type": "code",
   "execution_count": 3,
   "metadata": {},
   "outputs": [
    {
     "name": "stdout",
     "output_type": "stream",
     "text": [
      "\n",
      "o3 = R\n",
      "\n",
      "o3 : QuotientRing\n"
     ]
    }
   ],
   "source": [
    "R = ZZ[y]/(y^2 - 1)"
   ]
  },
  {
   "cell_type": "code",
   "execution_count": 4,
   "metadata": {},
   "outputs": [
    {
     "name": "stdout",
     "output_type": "stream",
     "text": [
      "\n",
      "o4 = | 1 y |\n",
      "\n",
      "             1       2\n",
      "o4 : Matrix R  <--- R\n"
     ]
    }
   ],
   "source": [
    "basis R"
   ]
  },
  {
   "cell_type": "markdown",
   "metadata": {},
   "source": [
    "Here, $y$ is the sign representation $[-1]$, which rotates the complex plane by $\\pi$."
   ]
  },
  {
   "cell_type": "markdown",
   "metadata": {},
   "source": [
    "We will need to cheat somewhat in this computation, as M2 cannot do direct sums.\n",
    "However, we are lucky in this case, as the base ring is $\\mathbb Z$ in both cases."
   ]
  },
  {
   "cell_type": "markdown",
   "metadata": {},
   "source": [
    "First, we take the tensor product of the two rings (and secretly have an additional $\\mathbb Z$ term)"
   ]
  },
  {
   "cell_type": "code",
   "execution_count": 5,
   "metadata": {},
   "outputs": [
    {
     "name": "stdout",
     "output_type": "stream",
     "text": [
      "\n",
      "o5 = M\n",
      "\n",
      "o5 : QuotientRing\n"
     ]
    }
   ],
   "source": [
    "M = A ** R "
   ]
  },
  {
   "cell_type": "markdown",
   "metadata": {},
   "source": [
    "We must ensure that this diagram still satisfies Frobenius reciprosity (this in turn is sufficient to satisfy push-pull).\n",
    "The generators of this ideal are elements of the form:\n",
    "- $a \\otimes tr(r') - res(a) \\otimes r'$\n",
    "- $tr(a') \\otimes r - a' \\otimes res(r)$\n",
    "where the second terms are in the hidden $\\mathbb Z$\n",
    "\n",
    "In this case, $res(x) = 2$, $res(y) = 1$, $tr(1_a') = x$, $tr(1_r') = 1+y$.\n",
    "Thus the relations are:\n",
    "- $1 \\otimes (1+y) - 1$\n",
    "- $x \\otimes (1+y) - 2$\n",
    "- $(x) \\otimes 1 - 1$\n",
    "- $(x) \\otimes y - 1$"
   ]
  },
  {
   "cell_type": "code",
   "execution_count": 6,
   "metadata": {},
   "outputs": [
    {
     "name": "stdout",
     "output_type": "stream",
     "text": [
      "\n",
      "o6 = ideal (- x + y + 1, - x*y + y + 1, x*y + x - 2y - 2)\n",
      "\n",
      "o6 : Ideal of M\n"
     ]
    }
   ],
   "source": [
    "I = ideal(\n",
    "(1+y) - (x),\n",
    "(1+y) - (x*y),\n",
    "(x+x*y) - 2*(1+y)\n",
    ")"
   ]
  },
  {
   "cell_type": "code",
   "execution_count": 7,
   "metadata": {},
   "outputs": [
    {
     "name": "stdout",
     "output_type": "stream",
     "text": [
      "\n",
      "o7 = N\n",
      "\n",
      "o7 : QuotientRing\n"
     ]
    }
   ],
   "source": [
    "N = M / I"
   ]
  },
  {
   "cell_type": "code",
   "execution_count": 8,
   "metadata": {},
   "outputs": [
    {
     "name": "stdout",
     "output_type": "stream",
     "text": [
      "\n",
      "                            M\n",
      "o8 = ----------------------------------------------\n",
      "     (- x + y + 1, - x*y + y + 1, x*y + x - 2y - 2)\n"
     ]
    }
   ],
   "source": [
    "describe N"
   ]
  },
  {
   "cell_type": "code",
   "execution_count": 10,
   "metadata": {},
   "outputs": [
    {
     "name": "stdout",
     "output_type": "stream",
     "text": [
      "\n",
      "\n",
      "                     ZZ[y]\n",
      "o10 = ----------------------------------\n",
      "        2       2         2       2\n",
      "      (y  - 1, y  - 1, - y  + 1, y  - 1)\n"
     ]
    }
   ],
   "source": [
    "N' = prune N;\n",
    "describe N'"
   ]
  },
  {
   "cell_type": "markdown",
   "metadata": {},
   "source": [
    "We should get a ring isomorphic to $\\mathbb Z[x]/(x^2-2x)$ and $\\mathbb Z[y]/(y^2-1)$"
   ]
  },
  {
   "cell_type": "code",
   "execution_count": 14,
   "metadata": {},
   "outputs": [
    {
     "name": "stdout",
     "output_type": "stream",
     "text": [
      "\n",
      "o14 = | y2-1 |\n",
      "\n",
      "                    1             1\n",
      "o14 : Matrix (ZZ[y])  <--- (ZZ[y])\n"
     ]
    }
   ],
   "source": [
    "f = mingens ideal N'"
   ]
  },
  {
   "cell_type": "code",
   "execution_count": 26,
   "metadata": {},
   "outputs": [
    {
     "name": "stdout",
     "output_type": "stream",
     "text": [
      "\n",
      "             2\n",
      "o26 = ideal(y  - 1)\n",
      "\n",
      "o26 : Ideal of ZZ[y]\n"
     ]
    }
   ],
   "source": [
    "K = ideal(f_(0,0))"
   ]
  },
  {
   "cell_type": "code",
   "execution_count": 30,
   "metadata": {},
   "outputs": [
    {
     "name": "stdout",
     "output_type": "stream",
     "text": [
      "\n",
      "\n",
      "       ZZ[y]\n",
      "o30 = ------\n",
      "       2\n",
      "      y  - 1\n"
     ]
    }
   ],
   "source": [
    "B = ring K / K;\n",
    "describe B"
   ]
  }
 ],
 "metadata": {
  "kernelspec": {
   "display_name": "M2",
   "language": "text/x-macaulay2",
   "name": "m2"
  },
  "language_info": {
   "codemirror_mode": "macaulay2",
   "file_extension": ".m2",
   "mimetype": "text/x-macaulay2",
   "name": "Macaulay2"
  }
 },
 "nbformat": 4,
 "nbformat_minor": 4
}
